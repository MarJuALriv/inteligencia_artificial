{
  "nbformat": 4,
  "nbformat_minor": 0,
  "metadata": {
    "colab": {
      "provenance": [],
      "authorship_tag": "ABX9TyN1ueyeHOKnoR0VLlNGW2EK",
      "include_colab_link": true
    },
    "kernelspec": {
      "name": "python3",
      "display_name": "Python 3"
    },
    "language_info": {
      "name": "python"
    }
  },
  "cells": [
    {
      "cell_type": "markdown",
      "metadata": {
        "id": "view-in-github",
        "colab_type": "text"
      },
      "source": [
        "<a href=\"https://colab.research.google.com/github/MarJuALriv/inteligencia_artificial/blob/master/15DeJulio.ipynb\" target=\"_parent\"><img src=\"https://colab.research.google.com/assets/colab-badge.svg\" alt=\"Open In Colab\"/></a>"
      ]
    },
    {
      "cell_type": "code",
      "execution_count": 2,
      "metadata": {
        "colab": {
          "base_uri": "https://localhost:8080/"
        },
        "id": "qFKxVivnE832",
        "outputId": "5b6778e2-e8f5-466b-a710-8c70270496c9"
      },
      "outputs": [
        {
          "output_type": "stream",
          "name": "stdout",
          "text": [
            "2.0.3\n",
            "fernando    100\n",
            "pedro       200\n",
            "lucas       300\n",
            "dtype: int64\n",
            "100\n",
            "Index(['fernando', 'pedro', 'lucas'], dtype='object')\n",
            "True\n"
          ]
        }
      ],
      "source": [
        "import numpy as np\n",
        "import pandas as pd\n",
        "\n",
        "print(pd.__version__)\n",
        "\n",
        "serieData=pd.Series(data=[100,200,300], index=['fernando', 'pedro', 'lucas'])\n",
        "print(serieData)\n",
        "\n",
        "print(serieData['fernando'])\n",
        "\n",
        "print (serieData.index)\n",
        "\n",
        "print('fernando' in serieData)"
      ]
    },
    {
      "cell_type": "code",
      "source": [
        "import pandas as pd\n",
        "\n",
        "myDiccionario = {\n",
        "    'one': pd.Series([100, 200, 300], index=['fernando', 'pedro', 'lucas']),\n",
        "    'two': pd.Series([11, 12, 33], index=['julio', 'pedro', 'lucas'])\n",
        "}\n",
        "\n",
        "# SERIES Y DATAFRAMES\n",
        "df = pd.DataFrame(myDiccionario)\n",
        "print(df)\n",
        "\n",
        "print(df.index)\n",
        "print(df)\n",
        "print('we are here............')\n",
        "print(df.index)\n",
        "print(df.columns)\n",
        "\n",
        "print(df['two']['julio'])"
      ],
      "metadata": {
        "colab": {
          "base_uri": "https://localhost:8080/"
        },
        "id": "Tg9cLq0WFHFl",
        "outputId": "61efba2e-7df9-4b1a-bb27-f0a8c7dd58cb"
      },
      "execution_count": 3,
      "outputs": [
        {
          "output_type": "stream",
          "name": "stdout",
          "text": [
            "            one   two\n",
            "fernando  100.0   NaN\n",
            "julio       NaN  11.0\n",
            "lucas     300.0  33.0\n",
            "pedro     200.0  12.0\n",
            "Index(['fernando', 'julio', 'lucas', 'pedro'], dtype='object')\n",
            "            one   two\n",
            "fernando  100.0   NaN\n",
            "julio       NaN  11.0\n",
            "lucas     300.0  33.0\n",
            "pedro     200.0  12.0\n",
            "we are here............\n",
            "Index(['fernando', 'julio', 'lucas', 'pedro'], dtype='object')\n",
            "Index(['one', 'two'], dtype='object')\n",
            "11.0\n"
          ]
        }
      ]
    }
  ]
}