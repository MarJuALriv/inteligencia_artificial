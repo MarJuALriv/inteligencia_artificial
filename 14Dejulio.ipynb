{
  "nbformat": 4,
  "nbformat_minor": 0,
  "metadata": {
    "colab": {
      "provenance": [],
      "authorship_tag": "ABX9TyMRcp764C0y/JO2cQs3drd2",
      "include_colab_link": true
    },
    "kernelspec": {
      "name": "python3",
      "display_name": "Python 3"
    },
    "language_info": {
      "name": "python"
    }
  },
  "cells": [
    {
      "cell_type": "markdown",
      "metadata": {
        "id": "view-in-github",
        "colab_type": "text"
      },
      "source": [
        "<a href=\"https://colab.research.google.com/github/MarJuALriv/inteligencia_artificial/blob/master/14Dejulio.ipynb\" target=\"_parent\"><img src=\"https://colab.research.google.com/assets/colab-badge.svg\" alt=\"Open In Colab\"/></a>"
      ]
    },
    {
      "cell_type": "code",
      "execution_count": null,
      "metadata": {
        "id": "0GJwOF-v-VO7"
      },
      "outputs": [],
      "source": [
        "import numpy as np"
      ]
    },
    {
      "cell_type": "code",
      "source": [
        "print(np.__version__)\n"
      ],
      "metadata": {
        "colab": {
          "base_uri": "https://localhost:8080/"
        },
        "id": "KQeCvgsoCnO6",
        "outputId": "eb9b91e4-e21d-4f74-e844-fc7738512c29"
      },
      "execution_count": null,
      "outputs": [
        {
          "output_type": "stream",
          "name": "stdout",
          "text": [
            "1.25.2\n"
          ]
        }
      ]
    },
    {
      "cell_type": "code",
      "source": [
        "# Crear un array de números del 0 al 9\n",
        "id_array = np.arange(10)\n",
        "\n",
        "print(id_array)"
      ],
      "metadata": {
        "colab": {
          "base_uri": "https://localhost:8080/"
        },
        "id": "aErQ8-T4DCR4",
        "outputId": "a9d70499-0f96-44ea-8de1-a8cd529e329c"
      },
      "execution_count": null,
      "outputs": [
        {
          "output_type": "stream",
          "name": "stdout",
          "text": [
            "[0 1 2 3 4 5 6 7 8 9]\n"
          ]
        }
      ]
    },
    {
      "cell_type": "code",
      "source": [
        "\n",
        "\n",
        "# Crear un vector aleatorio de tamaño 10\n",
        "vector_aleatorio = np.random.rand(10)\n",
        "\n",
        "print(\"Vector aleatorio original:\")\n",
        "print(vector_aleatorio)\n",
        "\n",
        "# Encontrar el índice del valor máximo\n",
        "indice_maximo = np.argmax(vector_aleatorio)\n",
        "\n",
        "# Reemplazar el valor máximo por 0\n",
        "vector_aleatorio[indice_maximo] = 0\n",
        "\n",
        "print(\"Vector después de reemplazar el valor máximo por 0:\")\n",
        "print(vector_aleatorio)\n"
      ],
      "metadata": {
        "colab": {
          "base_uri": "https://localhost:8080/"
        },
        "id": "oF3YzTciDUcK",
        "outputId": "cfb17cec-fbc3-4028-a633-146205f73f2d"
      },
      "execution_count": null,
      "outputs": [
        {
          "output_type": "stream",
          "name": "stdout",
          "text": [
            "Vector aleatorio original:\n",
            "[0.56981421 0.27071246 0.3428072  0.04596306 0.40082436 0.79058082\n",
            " 0.84997687 0.49401276 0.74766453 0.21819197]\n",
            "Vector después de reemplazar el valor máximo por 0:\n",
            "[0.56981421 0.27071246 0.3428072  0.04596306 0.40082436 0.79058082\n",
            " 0.         0.49401276 0.74766453 0.21819197]\n"
          ]
        }
      ]
    },
    {
      "cell_type": "code",
      "source": [
        "import numpy as np\n",
        "\n",
        "# Definir el array arr\n",
        "arr = np.array([[1, 2, 3, 4, 5], [6, 7, 8, 9, 10]])\n",
        "\n",
        "# Encontrar la posición del número 8 usando np.where\n",
        "indice = np.where(arr == 8)\n",
        "\n",
        "# Imprimir el número 8 y su posición\n",
        "print(\"El número 8 se encuentra en la posición:\", indice)\n",
        "print(\"El número 8 es:\", arr[indice])\n"
      ],
      "metadata": {
        "colab": {
          "base_uri": "https://localhost:8080/"
        },
        "id": "l4DZJXlBEN4Q",
        "outputId": "c497bdcd-f798-4f5e-80e0-8c3b9cbdc917"
      },
      "execution_count": null,
      "outputs": [
        {
          "output_type": "stream",
          "name": "stdout",
          "text": [
            "El número 8 se encuentra en la posición: (array([1]), array([2]))\n",
            "El número 8 es: [8]\n"
          ]
        }
      ]
    },
    {
      "cell_type": "code",
      "source": [
        "\n",
        "\n",
        "# Definir el array arr\n",
        "arr = np.array([1, 2, 3, 4, 5, 6, 7])\n",
        "\n",
        "# Obtener los elementos [3, 4, 5] utilizando la indexación\n",
        "subset = arr[2:5]  # Recordando que el índice en Python comienza en 0\n",
        "\n",
        "print(\"Los números [3, 4, 5] del array son:\", subset)\n"
      ],
      "metadata": {
        "colab": {
          "base_uri": "https://localhost:8080/"
        },
        "id": "00_PzVYkEzCM",
        "outputId": "3525f4b3-ab50-4ee3-84f5-4519487ea067"
      },
      "execution_count": null,
      "outputs": [
        {
          "output_type": "stream",
          "name": "stdout",
          "text": [
            "Los números [3, 4, 5] del array son: [3 4 5]\n"
          ]
        }
      ]
    },
    {
      "cell_type": "code",
      "source": [
        "# Definir el array arr\n",
        "arr = np.array([1, 2, 3, 4, 5, 6, 7])\n",
        "\n",
        "# Obtener los últimos 4 números utilizando indexación negativa\n",
        "last_four = arr[-4:]\n",
        "\n",
        "print(\"Los últimos 4 números del array son:\", last_four)"
      ],
      "metadata": {
        "colab": {
          "base_uri": "https://localhost:8080/"
        },
        "id": "VJdw3jokF-hI",
        "outputId": "c82515cf-ffdc-488c-f2a3-dda2aab55a5c"
      },
      "execution_count": null,
      "outputs": [
        {
          "output_type": "stream",
          "name": "stdout",
          "text": [
            "Los últimos 4 números del array son: [4 5 6 7]\n"
          ]
        }
      ]
    },
    {
      "cell_type": "code",
      "source": [
        "# Crear una matriz 3x3 de todos True's\n",
        "true_array = np.ones((3, 3), dtype=bool)\n",
        "\n",
        "print(true_array)"
      ],
      "metadata": {
        "colab": {
          "base_uri": "https://localhost:8080/"
        },
        "id": "VXihL50bGCvE",
        "outputId": "b2feafb2-1d99-4a2a-f774-30d80fdab24d"
      },
      "execution_count": null,
      "outputs": [
        {
          "output_type": "stream",
          "name": "stdout",
          "text": [
            "[[ True  True  True]\n",
            " [ True  True  True]\n",
            " [ True  True  True]]\n"
          ]
        }
      ]
    },
    {
      "cell_type": "code",
      "source": [
        "# Definir el array arr\n",
        "arr = np.array([1, 2, 3, 4, 5, 6, 7, 8, 9])\n",
        "\n",
        "# Filtrar los números impares usando operaciones de indexación y booleanas\n",
        "odd_numbers = arr[arr % 2 != 0]\n",
        "\n",
        "print(\"Números impares en el array son:\", odd_numbers)"
      ],
      "metadata": {
        "colab": {
          "base_uri": "https://localhost:8080/"
        },
        "id": "tYIk5URFGoc_",
        "outputId": "3f5685ec-5b44-4244-dd4a-5ebcc9a0d999"
      },
      "execution_count": null,
      "outputs": [
        {
          "output_type": "stream",
          "name": "stdout",
          "text": [
            "Números impares en el array son: [1 3 5 7 9]\n"
          ]
        }
      ]
    },
    {
      "cell_type": "code",
      "source": [
        "# Crear un vector con valores desde 10 hasta 49\n",
        "vector = np.arange(10, 50)\n",
        "\n",
        "print(vector)"
      ],
      "metadata": {
        "colab": {
          "base_uri": "https://localhost:8080/"
        },
        "id": "lk6vC24LGtQR",
        "outputId": "f91cf081-44c4-4edd-d480-5fc94bac42b8"
      },
      "execution_count": null,
      "outputs": [
        {
          "output_type": "stream",
          "name": "stdout",
          "text": [
            "[10 11 12 13 14 15 16 17 18 19 20 21 22 23 24 25 26 27 28 29 30 31 32 33\n",
            " 34 35 36 37 38 39 40 41 42 43 44 45 46 47 48 49]\n"
          ]
        }
      ]
    },
    {
      "cell_type": "code",
      "source": [
        "# Revertir el vector utilizando indexación inversa\n",
        "reversed_vector = vector[::-1]\n",
        "\n",
        "print(\"Vector original:\", vector)\n",
        "print(\"Vector revertido:\", reversed_vector)"
      ],
      "metadata": {
        "colab": {
          "base_uri": "https://localhost:8080/"
        },
        "id": "MeUoGVgnHRcW",
        "outputId": "26f3495e-6fda-4df2-f2e9-9939d0c09a0b"
      },
      "execution_count": null,
      "outputs": [
        {
          "output_type": "stream",
          "name": "stdout",
          "text": [
            "Vector original: [10 11 12 13 14 15 16 17 18 19 20 21 22 23 24 25 26 27 28 29 30 31 32 33\n",
            " 34 35 36 37 38 39 40 41 42 43 44 45 46 47 48 49]\n",
            "Vector revertido: [49 48 47 46 45 44 43 42 41 40 39 38 37 36 35 34 33 32 31 30 29 28 27 26\n",
            " 25 24 23 22 21 20 19 18 17 16 15 14 13 12 11 10]\n"
          ]
        }
      ]
    },
    {
      "cell_type": "code",
      "source": [
        "# Definir los arrays A y B\n",
        "A = np.random.randint(0, 2, 5)\n",
        "B = np.random.randint(0, 8, 5)\n",
        "\n",
        "print(\"Array A:\", A)\n",
        "print(\"Array B:\", B)\n",
        "\n",
        "# Verificar si los arrays A y B son iguales\n",
        "son_iguales = np.array_equal(A, B)\n",
        "\n",
        "if son_iguales:\n",
        "    print(\"Los arrays A y B son iguales.\")\n",
        "else:\n",
        "    print(\"Los arrays A y B no son iguales.\")"
      ],
      "metadata": {
        "colab": {
          "base_uri": "https://localhost:8080/"
        },
        "id": "4QU48nA2J6Wa",
        "outputId": "72f2a914-82fd-4c95-954e-1085b70ab396"
      },
      "execution_count": null,
      "outputs": [
        {
          "output_type": "stream",
          "name": "stdout",
          "text": [
            "Array A: [0 1 1 0 0]\n",
            "Array B: [3 0 5 0 6]\n",
            "Los arrays A y B no son iguales.\n"
          ]
        }
      ]
    },
    {
      "cell_type": "code",
      "source": [
        "# Crear una matriz 10x10 con valores enteros aleatorios entre 0 y 99\n",
        "matriz = np.random.randint(0, 100, size=(10, 10))\n",
        "\n",
        "# Encontrar el valor mínimo y máximo en la matriz\n",
        "minimo_valor = np.min(matriz)\n",
        "maximo_valor = np.max(matriz)\n",
        "\n",
        "print(\"Matriz:\")\n",
        "print(matriz)\n",
        "print(\"\\nValor mínimo:\", minimo_valor)\n",
        "print(\"Valor máximo:\", maximo_valor)"
      ],
      "metadata": {
        "colab": {
          "base_uri": "https://localhost:8080/"
        },
        "id": "PlOWI4dJHXXn",
        "outputId": "564c3e30-5f0b-4592-d640-458edb090830"
      },
      "execution_count": null,
      "outputs": [
        {
          "output_type": "stream",
          "name": "stdout",
          "text": [
            "Matriz:\n",
            "[[ 4 44 70 53 99 11 92 13 97 20]\n",
            " [96 90 70 41 91 61 88 51 80 60]\n",
            " [90 36 77 98 59 82 65 71 62 85]\n",
            " [72 41  1 77 35 72 25 66 20 74]\n",
            " [21 10 42 21 78 29 89 28 51 97]\n",
            " [59 51 12 57 92 99 99 38 14 88]\n",
            " [72 20 33 19 28 66 89 25 85 77]\n",
            " [15 62  8 18 74 77 70 18 96 86]\n",
            " [43 17 21 10 60 40 15 41 15 31]\n",
            " [79 12 65 79 10  7  6  1 41  6]]\n",
            "\n",
            "Valor mínimo: 1\n",
            "Valor máximo: 99\n"
          ]
        }
      ]
    },
    {
      "cell_type": "code",
      "source": [
        "# Crear una matriz tridimensional (3x3x3) con valores aleatorios\n",
        "matriz_3d = np.random.rand(3, 3, 3)\n",
        "\n",
        "print(\"Matriz tridimensional:\")\n",
        "print(matriz_3d)"
      ],
      "metadata": {
        "colab": {
          "base_uri": "https://localhost:8080/"
        },
        "id": "-MolOhj4Hx8f",
        "outputId": "9abf914f-fbe2-41f5-d239-69a90b14a243"
      },
      "execution_count": null,
      "outputs": [
        {
          "output_type": "stream",
          "name": "stdout",
          "text": [
            "Matriz tridimensional:\n",
            "[[[0.42297665 0.7904825  0.31012632]\n",
            "  [0.52578931 0.38653148 0.22948336]\n",
            "  [0.79088689 0.17216821 0.62531621]]\n",
            "\n",
            " [[0.75479203 0.20464429 0.18858765]\n",
            "  [0.10715792 0.49774897 0.24752884]\n",
            "  [0.80637675 0.85353226 0.88098635]]\n",
            "\n",
            " [[0.84664021 0.42333076 0.9222355 ]\n",
            "  [0.52094003 0.9655658  0.96045403]\n",
            "  [0.4014978  0.34418695 0.74961917]]]\n"
          ]
        }
      ]
    },
    {
      "cell_type": "code",
      "source": [
        "# Definir el array arr\n",
        "arr = np.array([1, 2, 3, 4, 5, 6, 7, 8, 9])\n",
        "\n",
        "# Crear una copia del array para no modificar el original\n",
        "arr_modificado = arr.copy()\n",
        "\n",
        "# Reemplazar los números impares por -1\n",
        "arr_modificado[arr_modificado % 2 != 0] = -1\n",
        "\n",
        "print(\"Array original:\", arr)\n",
        "print(\"Array modificado con impares reemplazados por -1:\", arr_modificado)"
      ],
      "metadata": {
        "colab": {
          "base_uri": "https://localhost:8080/"
        },
        "id": "weGstDDbICyI",
        "outputId": "c62020fd-2785-4a43-f23d-48e13b3c0ceb"
      },
      "execution_count": null,
      "outputs": [
        {
          "output_type": "stream",
          "name": "stdout",
          "text": [
            "Array original: [1 2 3 4 5 6 7 8 9]\n",
            "Array modificado con impares reemplazados por -1: [ 1 -1  3 -1  5 -1  7 -1  9]\n"
          ]
        }
      ]
    },
    {
      "cell_type": "code",
      "source": [
        "# Crear un array de tipo float\n",
        "arr_float = np.array([1.0, 2.5, 3.7, 4.2])\n",
        "\n",
        "print(\"Array de tipo float:\")\n",
        "print(arr_float)\n",
        "print(\"Tipo de dato:\", arr_float.dtype)"
      ],
      "metadata": {
        "colab": {
          "base_uri": "https://localhost:8080/"
        },
        "id": "1JTEhEahISah",
        "outputId": "8ef2adf3-9482-4763-9e97-af6ec27121f6"
      },
      "execution_count": null,
      "outputs": [
        {
          "output_type": "stream",
          "name": "stdout",
          "text": [
            "Array de tipo float:\n",
            "[1.  2.5 3.7 4.2]\n",
            "Tipo de dato: float64\n"
          ]
        }
      ]
    },
    {
      "cell_type": "code",
      "source": [
        "# Definir el array unidimensional\n",
        "arr_1d = np.array([1, 2, 3, 4, 5, 6, 7, 8])\n",
        "\n",
        "# Convertir a un array bidimensional con 2 filas\n",
        "arr_2d = arr_1d.reshape(2, -1)\n",
        "\n",
        "print(\"Array unidimensional:\")\n",
        "print(arr_1d)\n",
        "print(\"\\nArray bidimensional con 2 filas:\")\n",
        "print(arr_2d)"
      ],
      "metadata": {
        "colab": {
          "base_uri": "https://localhost:8080/"
        },
        "id": "ezykAefTIjho",
        "outputId": "cc0130ce-4843-414a-fe68-b15fbecca2d2"
      },
      "execution_count": null,
      "outputs": [
        {
          "output_type": "stream",
          "name": "stdout",
          "text": [
            "Array unidimensional:\n",
            "[1 2 3 4 5 6 7 8]\n",
            "\n",
            "Array bidimensional con 2 filas:\n",
            "[[1 2 3 4]\n",
            " [5 6 7 8]]\n"
          ]
        }
      ]
    },
    {
      "cell_type": "code",
      "source": [
        "# Definir los arrays Z1 y Z2\n",
        "Z1 = np.random.randint(0, 10, 10)\n",
        "Z2 = np.random.randint(0, 10, 10)\n",
        "\n",
        "print(\"Array Z1:\", Z1)\n",
        "print(\"Array Z2:\", Z2)\n",
        "\n",
        "# Encontrar los valores comunes entre Z1 y Z2\n",
        "common_values = np.intersect1d(Z1, Z2)\n",
        "\n",
        "print(\"Valores comunes entre Z1 y Z2:\", common_values)"
      ],
      "metadata": {
        "colab": {
          "base_uri": "https://localhost:8080/"
        },
        "id": "eCRErFa7I3_b",
        "outputId": "ab6f5f5c-c288-4c58-85ec-118feae50a53"
      },
      "execution_count": null,
      "outputs": [
        {
          "output_type": "stream",
          "name": "stdout",
          "text": [
            "Array Z1: [0 2 7 0 6 2 7 3 7 6]\n",
            "Array Z2: [6 4 4 8 3 2 9 9 3 7]\n",
            "Valores comunes entre Z1 y Z2: [2 3 6 7]\n"
          ]
        }
      ]
    },
    {
      "cell_type": "code",
      "source": [
        "# Definir las matrices a y b\n",
        "a = np.array([[1, 2], [3, 4]])\n",
        "b = np.array([[5, 6], [7, 8]])\n",
        "\n",
        "# Apilar verticalmente las matrices\n",
        "c = np.vstack((a, b))\n",
        "\n",
        "print(c)"
      ],
      "metadata": {
        "colab": {
          "base_uri": "https://localhost:8080/"
        },
        "id": "lV5cvqlo_nTd",
        "outputId": "41df341f-5bd6-4ab1-a06b-613e724d9807"
      },
      "execution_count": null,
      "outputs": [
        {
          "output_type": "stream",
          "name": "stdout",
          "text": [
            "[[1 2]\n",
            " [3 4]\n",
            " [5 6]\n",
            " [7 8]]\n"
          ]
        }
      ]
    },
    {
      "cell_type": "code",
      "source": [
        "# Define the arrays a and b\n",
        "a = np.array([[1, 2], [3, 4]])\n",
        "b = np.array([[5, 6], [7, 8]])\n",
        "\n",
        "# Stack the arrays horizontally\n",
        "c = np.hstack((a, b))\n",
        "\n",
        "print(c)"
      ],
      "metadata": {
        "colab": {
          "base_uri": "https://localhost:8080/"
        },
        "id": "CHGg4wSL_zFE",
        "outputId": "c0005c26-6c9a-4b27-f604-d629929c3538"
      },
      "execution_count": null,
      "outputs": [
        {
          "output_type": "stream",
          "name": "stdout",
          "text": [
            "[[1 2 5 6]\n",
            " [3 4 7 8]]\n"
          ]
        }
      ]
    },
    {
      "cell_type": "code",
      "source": [
        "# Crear el array tmp\n",
        "tmp = np.arange(15)\n",
        "\n",
        "# Obtener todos los elementos entre 5 y 10\n",
        "result = tmp[(tmp >= 5) & (tmp <= 10)]\n",
        "\n",
        "print(result)"
      ],
      "metadata": {
        "colab": {
          "base_uri": "https://localhost:8080/"
        },
        "id": "UKqDx2pnAQbu",
        "outputId": "8db7c5d6-493e-447f-d6e6-79886a1d4a34"
      },
      "execution_count": null,
      "outputs": [
        {
          "output_type": "stream",
          "name": "stdout",
          "text": [
            "[ 5  6  7  8  9 10]\n"
          ]
        }
      ]
    },
    {
      "cell_type": "code",
      "source": [
        "# Definir la función que maneja escalares\n",
        "def pair_max(x, y):\n",
        "    return max(x, y)\n",
        "\n",
        "# Vectorizar la función para que funcione con arrays de NumPy\n",
        "vectorized_pair_max = np.vectorize(pair_max)\n",
        "\n",
        "# Definir los arrays a y b\n",
        "a = np.array([5, 7, 9, 8, 6, 4, 5])\n",
        "b = np.array([6, 3, 4, 8, 9, 7, 1])\n",
        "\n",
        "# Aplicar la función vectorizada\n",
        "result = vectorized_pair_max(a, b)\n",
        "\n",
        "print(result)"
      ],
      "metadata": {
        "colab": {
          "base_uri": "https://localhost:8080/"
        },
        "id": "1mHAingtA_0z",
        "outputId": "45e5b844-9cb8-4cb6-ff18-41d1a14aaae3"
      },
      "execution_count": null,
      "outputs": [
        {
          "output_type": "stream",
          "name": "stdout",
          "text": [
            "[6 7 9 8 9 7 5]\n"
          ]
        }
      ]
    },
    {
      "cell_type": "code",
      "source": [
        "import numpy as np\n",
        "# Definir el arreglo arr\n",
        "arr = np.arange(9).reshape(3, 3)\n",
        "print(\"Arreglo original:\")\n",
        "print(arr)\n",
        "\n",
        "# Intercambiar las columnas 1 y 2\n",
        "arr[:, [1, 2]] = arr[:, [2, 1]]\n",
        "\n",
        "# Imprimir el resultado\n",
        "print(\"Arreglo con columnas 1 y 2 intercambiadas:\")\n",
        "print(arr)\n",
        "\n",
        ""
      ],
      "metadata": {
        "id": "sQQAVLR8KBqz",
        "colab": {
          "base_uri": "https://localhost:8080/"
        },
        "outputId": "3dbdf1b1-6371-4035-9421-e0d791a31e90"
      },
      "execution_count": 2,
      "outputs": [
        {
          "output_type": "stream",
          "name": "stdout",
          "text": [
            "Arreglo original:\n",
            "[[0 1 2]\n",
            " [3 4 5]\n",
            " [6 7 8]]\n",
            "Arreglo con columnas 1 y 2 intercambiadas:\n",
            "[[0 2 1]\n",
            " [3 5 4]\n",
            " [6 8 7]]\n"
          ]
        }
      ]
    },
    {
      "cell_type": "code",
      "source": [
        "import numpy as np\n",
        "\n",
        "# Crear un arreglo 2D de forma 5x3 con números decimales aleatorios entre 5 y 10\n",
        "arr = np.random.uniform(5, 10, size=(5, 3))\n",
        "\n",
        "# Imprimir el resultado\n",
        "print(\"Arreglo 2D de forma 5x3 con números aleatorios entre 5 y 10:\")\n",
        "print(arr)"
      ],
      "metadata": {
        "colab": {
          "base_uri": "https://localhost:8080/"
        },
        "id": "qBRT--r7v0s0",
        "outputId": "7ebe8025-e6cc-4fd0-c953-f440702b7e14"
      },
      "execution_count": 3,
      "outputs": [
        {
          "output_type": "stream",
          "name": "stdout",
          "text": [
            "Arreglo 2D de forma 5x3 con números aleatorios entre 5 y 10:\n",
            "[[8.94153336 9.47785123 8.13446949]\n",
            " [6.30818436 8.09333688 7.93995462]\n",
            " [7.76556306 9.59021335 7.8466458 ]\n",
            " [6.27754584 7.23074722 9.77524656]\n",
            " [8.47545745 5.27688775 8.85804655]]\n"
          ]
        }
      ]
    }
  ]
}